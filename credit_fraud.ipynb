{
  "cells": [
    {
      "cell_type": "markdown",
      "metadata": {
        "colab_type": "text",
        "id": "view-in-github"
      },
      "source": [
        "<a href=\"https://colab.research.google.com/github/Armweak5104/Credit-fraud/blob/main/credit_fraud.ipynb\" target=\"_parent\"><img src=\"https://colab.research.google.com/assets/colab-badge.svg\" alt=\"Open In Colab\"/></a>"
      ]
    },
    {
      "cell_type": "code",
      "execution_count": 78,
      "metadata": {
        "colab": {
          "base_uri": "https://localhost:8080/"
        },
        "id": "USGxM7YOMaUZ",
        "outputId": "bc31236f-0deb-4b1e-f785-5d9d37f02071"
      },
      "outputs": [
        {
          "name": "stdout",
          "output_type": "stream",
          "text": [
            "  trans_date_trans_time                   merchant       category     amt  \\\n",
            "0   2019-01-01 00:00:44  Heller, Gutmann and Zieme    grocery_pos  107.23   \n",
            "1   2019-01-01 00:00:51             Lind-Buckridge  entertainment  220.11   \n",
            "2   2019-01-01 00:07:27                  Kiehn Inc    grocery_pos   96.29   \n",
            "3   2019-01-01 00:09:03                Beier-Hyatt   shopping_pos    7.77   \n",
            "4   2019-01-01 00:21:32                 Bruen-Yost       misc_pos    6.85   \n",
            "\n",
            "                       city state      lat      long  city_pop  \\\n",
            "0                    Orient    WA  48.8878 -118.2105       149   \n",
            "1                Malad City    ID  42.1808 -112.2620      4154   \n",
            "2                   Grenada    CA  41.6125 -122.5258       589   \n",
            "3  High Rolls Mountain Park    NM  32.9396 -105.8189       899   \n",
            "4                   Freedom    WY  43.0172 -111.0292       471   \n",
            "\n",
            "                                 job                         trans_num  \\\n",
            "0  Special educational needs teacher  1f76529f8574734946361c461b024d99   \n",
            "1        Nature conservation officer  a1a22d70485983eac12b5b88dad1cf95   \n",
            "2                    Systems analyst  413636e759663f264aae1819a4d4f231   \n",
            "3                    Naval architect  8a6293af5ed278dea14448ded2685fea   \n",
            "4          Education officer, museum  f3c43d336e92a44fc2fb67058d5949e3   \n",
            "\n",
            "   merch_lat  merch_long  \n",
            "0  49.159047 -118.186462  \n",
            "1  43.150704 -112.154481  \n",
            "2  41.657520 -122.230347  \n",
            "3  32.863258 -106.520205  \n",
            "4  43.753735 -111.454923  \n",
            "0    0\n",
            "1    0\n",
            "2    0\n",
            "3    0\n",
            "4    0\n",
            "Name: is_fraud, dtype: int64\n"
          ]
        }
      ],
      "source": [
        "import pandas as pd\n",
        "import numpy as np\n",
        "import tensorflow as tf\n",
        "from sklearn.model_selection import train_test_split\n",
        "from sklearn.preprocessing import StandardScaler\n",
        "from imblearn.under_sampling import RandomUnderSampler\n",
        "\n",
        "\n",
        "fraud_data = pd.read_csv(\"credit_card_fraud.csv\")\n",
        "\n",
        "X = fraud_data.drop(columns=['is_fraud','dob'])\n",
        "y = fraud_data['is_fraud']\n",
        "\n",
        "print(X.head())\n",
        "print(y.head())"
      ]
    },
    {
      "cell_type": "code",
      "execution_count": 79,
      "metadata": {
        "id": "4vwH6WFrM1Sq"
      },
      "outputs": [],
      "source": [
        "#Cleaning non numerical data\n",
        "\n",
        "X = pd.get_dummies(X, columns=['merchant', 'category', 'city', 'state', 'job'])\n",
        "\n",
        "X['trans_year'] = pd.to_datetime(X['trans_date_trans_time']).dt.year\n",
        "X['trans_month'] = pd.to_datetime(X['trans_date_trans_time']).dt.month\n",
        "X['trans_day'] = pd.to_datetime(X['trans_date_trans_time']).dt.day\n",
        "X['trans_int'] =  X['trans_num'].apply(lambda x: int(x, 16))\n",
        "\n",
        "X.drop(columns=['trans_date_trans_time', 'trans_num'], inplace=True)\n",
        "\n",
        "#Accounting for undersampling \n",
        "undersampler = RandomUnderSampler(sampling_strategy=0.3, random_state=42)\n",
        "X_resampled, y_resampled = undersampler.fit_resample(X, y)"
      ]
    },
    {
      "cell_type": "code",
      "execution_count": 80,
      "metadata": {
        "id": "f2-UapU1M89l"
      },
      "outputs": [],
      "source": [
        "#splitting data and standardizing\n",
        "\n",
        "x_train, x_test, y_train, y_test = train_test_split(X_resampled, y_resampled, test_size=0.3, random_state=42)\n",
        "x_test, x_val, y_test, y_val = train_test_split(x_test, y_test, test_size=0.5)\n",
        "\n",
        "scaler = StandardScaler()\n",
        "x_train = scaler.fit_transform(x_train)\n",
        "x_test = scaler.transform(x_test)"
      ]
    },
    {
      "cell_type": "code",
      "execution_count": 81,
      "metadata": {
        "id": "sTZaQ3njNFyt"
      },
      "outputs": [],
      "source": [
        "# Build the neural network\n",
        "model = tf.keras.models.Sequential()\n",
        "\n",
        "model.add(tf.keras.layers.Dense(units=64, activation='relu', input_shape=(x_train.shape[1],)))\n",
        "\n",
        "model.add(tf.keras.layers.Dense(units=64, activation='relu'))\n",
        "\n",
        "model.add(tf.keras.layers.Dense(units=1, activation='sigmoid'))\n",
        "\n",
        "model.compile(optimizer='adam', loss='binary_crossentropy', metrics=['accuracy'])"
      ]
    },
    {
      "cell_type": "code",
      "execution_count": 82,
      "metadata": {
        "colab": {
          "base_uri": "https://localhost:8080/"
        },
        "id": "LTz32nXDNPer",
        "outputId": "e6cc97b7-5998-48ad-90d4-9c4195204010"
      },
      "outputs": [
        {
          "name": "stdout",
          "output_type": "stream",
          "text": [
            "Epoch 1/10\n",
            "152/152 [==============================] - 2s 5ms/step - loss: 0.4850 - accuracy: 0.7901 - val_loss: 0.4432 - val_accuracy: 0.8244\n",
            "Epoch 2/10\n",
            "152/152 [==============================] - 0s 3ms/step - loss: 0.2726 - accuracy: 0.8892 - val_loss: 0.4293 - val_accuracy: 0.8318\n",
            "Epoch 3/10\n",
            "152/152 [==============================] - 1s 4ms/step - loss: 0.1568 - accuracy: 0.9394 - val_loss: 0.4871 - val_accuracy: 0.8410\n",
            "Epoch 4/10\n",
            "152/152 [==============================] - 1s 3ms/step - loss: 0.0863 - accuracy: 0.9688 - val_loss: 0.5597 - val_accuracy: 0.8447\n",
            "Epoch 5/10\n",
            "152/152 [==============================] - 0s 3ms/step - loss: 0.0437 - accuracy: 0.9868 - val_loss: 0.6854 - val_accuracy: 0.8447\n",
            "Epoch 6/10\n",
            "152/152 [==============================] - 1s 3ms/step - loss: 0.0285 - accuracy: 0.9916 - val_loss: 0.7063 - val_accuracy: 0.8521\n",
            "Epoch 7/10\n",
            "152/152 [==============================] - 1s 3ms/step - loss: 0.0215 - accuracy: 0.9928 - val_loss: 0.7450 - val_accuracy: 0.8595\n",
            "Epoch 8/10\n",
            "152/152 [==============================] - 0s 3ms/step - loss: 0.0159 - accuracy: 0.9947 - val_loss: 0.7842 - val_accuracy: 0.8466\n",
            "Epoch 9/10\n",
            "152/152 [==============================] - 0s 3ms/step - loss: 0.0181 - accuracy: 0.9944 - val_loss: 0.7804 - val_accuracy: 0.8632\n",
            "Epoch 10/10\n",
            "152/152 [==============================] - 1s 3ms/step - loss: 0.0118 - accuracy: 0.9957 - val_loss: 0.7885 - val_accuracy: 0.8614\n",
            "37/37 [==============================] - 0s 2ms/step - loss: 0.7689 - accuracy: 0.8670\n",
            "Test Loss: 0.7689383625984192, Test Accuracy: 0.867012083530426\n"
          ]
        }
      ],
      "source": [
        "#Training and testing model\n",
        "model.fit(x_train, y_train, epochs=10, batch_size=32, validation_split=0.1)\n",
        "\n",
        "loss, accuracy = model.evaluate(x_test, y_test)\n",
        "print(f\"Test Loss: {loss}, Test Accuracy: {accuracy}\")"
      ]
    }
  ],
  "metadata": {
    "colab": {
      "authorship_tag": "ABX9TyMBpcDW4bVbEJngHPG97IhJ",
      "include_colab_link": true,
      "provenance": []
    },
    "kernelspec": {
      "display_name": "Python 3",
      "name": "python3"
    },
    "language_info": {
      "name": "python"
    }
  },
  "nbformat": 4,
  "nbformat_minor": 0
}
