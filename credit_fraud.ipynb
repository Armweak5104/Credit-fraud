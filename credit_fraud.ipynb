{
  "nbformat": 4,
  "nbformat_minor": 0,
  "metadata": {
    "colab": {
      "provenance": [],
      "authorship_tag": "ABX9TyOTXLa1i0VqC1JrWrBKtzky"
    },
    "kernelspec": {
      "name": "python3",
      "display_name": "Python 3"
    },
    "language_info": {
      "name": "python"
    }
  },
  "cells": [
    {
      "cell_type": "code",
      "execution_count": null,
      "metadata": {
        "colab": {
          "base_uri": "https://localhost:8080/"
        },
        "id": "USGxM7YOMaUZ",
        "outputId": "86d15574-ff3a-4cf6-a5f2-11ddd5d627c7"
      },
      "outputs": [
        {
          "output_type": "stream",
          "name": "stdout",
          "text": [
            "  trans_date_trans_time                   merchant       category     amt  \\\n",
            "0   2019-01-01 00:00:44  Heller, Gutmann and Zieme    grocery_pos  107.23   \n",
            "1   2019-01-01 00:00:51             Lind-Buckridge  entertainment  220.11   \n",
            "2   2019-01-01 00:07:27                  Kiehn Inc    grocery_pos   96.29   \n",
            "3   2019-01-01 00:09:03                Beier-Hyatt   shopping_pos    7.77   \n",
            "4   2019-01-01 00:21:32                 Bruen-Yost       misc_pos    6.85   \n",
            "\n",
            "                       city state      lat      long  city_pop  \\\n",
            "0                    Orient    WA  48.8878 -118.2105       149   \n",
            "1                Malad City    ID  42.1808 -112.2620      4154   \n",
            "2                   Grenada    CA  41.6125 -122.5258       589   \n",
            "3  High Rolls Mountain Park    NM  32.9396 -105.8189       899   \n",
            "4                   Freedom    WY  43.0172 -111.0292       471   \n",
            "\n",
            "                                 job                         trans_num  \\\n",
            "0  Special educational needs teacher  1f76529f8574734946361c461b024d99   \n",
            "1        Nature conservation officer  a1a22d70485983eac12b5b88dad1cf95   \n",
            "2                    Systems analyst  413636e759663f264aae1819a4d4f231   \n",
            "3                    Naval architect  8a6293af5ed278dea14448ded2685fea   \n",
            "4          Education officer, museum  f3c43d336e92a44fc2fb67058d5949e3   \n",
            "\n",
            "   merch_lat  merch_long  \n",
            "0  49.159047 -118.186462  \n",
            "1  43.150704 -112.154481  \n",
            "2  41.657520 -122.230347  \n",
            "3  32.863258 -106.520205  \n",
            "4  43.753735 -111.454923  \n",
            "0    0.0\n",
            "1    0.0\n",
            "2    0.0\n",
            "3    0.0\n",
            "4    0.0\n",
            "Name: is_fraud, dtype: float64\n"
          ]
        }
      ],
      "source": [
        "import pandas as pd\n",
        "import numpy as np\n",
        "import tensorflow as tf\n",
        "from sklearn.model_selection import train_test_split\n",
        "from sklearn.preprocessing import StandardScaler\n",
        "\n",
        "fraud_data = pd.read_csv(\"credit_card_fraud.csv\")\n",
        "\n",
        "X = fraud_data.drop(columns=['is_fraud','dob'])\n",
        "y = fraud_data['is_fraud']\n",
        "\n",
        "print(X.head())\n",
        "print(y.head())"
      ]
    },
    {
      "cell_type": "code",
      "source": [
        "#Cleaning non numerical data\n",
        "\n",
        "X = pd.get_dummies(X, columns=['merchant', 'category', 'city', 'state', 'job'])\n",
        "\n",
        "X['trans_year'] = pd.to_datetime(X['trans_date_trans_time']).dt.year\n",
        "X['trans_month'] = pd.to_datetime(X['trans_date_trans_time']).dt.month\n",
        "X['trans_day'] = pd.to_datetime(X['trans_date_trans_time']).dt.day\n",
        "X['trans_int'] =  X['trans_num'].apply(lambda x: int(x, 16))\n",
        "\n",
        "X.drop(columns=['trans_date_trans_time', 'trans_num'], inplace=True)"
      ],
      "metadata": {
        "id": "4vwH6WFrM1Sq"
      },
      "execution_count": null,
      "outputs": []
    },
    {
      "cell_type": "code",
      "source": [
        "#splitting data and standardizing\n",
        "\n",
        "x_train, x_test, y_train, y_test = train_test_split(X, y, test_size=0.3)\n",
        "x_test, x_val, y_test, y_val = train_test_split(x_test, y_test, test_size=0.5)\n",
        "\n",
        "scaler = StandardScaler()\n",
        "x_train = scaler.fit_transform(x_train)\n",
        "x_test = scaler.transform(x_test)"
      ],
      "metadata": {
        "id": "f2-UapU1M89l"
      },
      "execution_count": null,
      "outputs": []
    },
    {
      "cell_type": "code",
      "source": [
        "# Build the neural network\n",
        "model = tf.keras.models.Sequential()\n",
        "\n",
        "model.add(tf.keras.layers.Dense(units=64, activation='relu', input_shape=(x_train.shape[1],)))\n",
        "\n",
        "model.add(tf.keras.layers.Dense(units=32, activation='relu'))\n",
        "\n",
        "model.add(tf.keras.layers.Dense(units=1, activation='sigmoid'))\n",
        "\n",
        "model.compile(optimizer='adam', loss='binary_crossentropy', metrics=['accuracy'])"
      ],
      "metadata": {
        "id": "sTZaQ3njNFyt"
      },
      "execution_count": null,
      "outputs": []
    },
    {
      "cell_type": "code",
      "source": [
        "#Training and testing model\n",
        "model.fit(x_train, y_train, epochs=10, batch_size=32, validation_split=0.1)\n",
        "\n",
        "loss, accuracy = model.evaluate(x_test, y_test)\n",
        "print(f\"Test Loss: {loss}, Test Accuracy: {accuracy}\")"
      ],
      "metadata": {
        "colab": {
          "base_uri": "https://localhost:8080/"
        },
        "id": "LTz32nXDNPer",
        "outputId": "b22a1263-c7a9-4068-c83f-f86b87973df6"
      },
      "execution_count": null,
      "outputs": [
        {
          "output_type": "stream",
          "name": "stdout",
          "text": [
            "Epoch 1/10\n",
            "2728/2728 [==============================] - 10s 3ms/step - loss: 0.0280 - accuracy: 0.9945 - val_loss: 0.0225 - val_accuracy: 0.9945\n",
            "Epoch 2/10\n",
            "2728/2728 [==============================] - 8s 3ms/step - loss: 0.0153 - accuracy: 0.9956 - val_loss: 0.0211 - val_accuracy: 0.9947\n",
            "Epoch 3/10\n",
            "2728/2728 [==============================] - 10s 4ms/step - loss: 0.0102 - accuracy: 0.9966 - val_loss: 0.0252 - val_accuracy: 0.9947\n",
            "Epoch 4/10\n",
            "2728/2728 [==============================] - 9s 3ms/step - loss: 0.0072 - accuracy: 0.9973 - val_loss: 0.0249 - val_accuracy: 0.9945\n",
            "Epoch 5/10\n",
            "2728/2728 [==============================] - 8s 3ms/step - loss: 0.0058 - accuracy: 0.9976 - val_loss: 0.0268 - val_accuracy: 0.9940\n",
            "Epoch 6/10\n",
            "2728/2728 [==============================] - 9s 3ms/step - loss: 0.0046 - accuracy: 0.9979 - val_loss: 0.0317 - val_accuracy: 0.9943\n",
            "Epoch 7/10\n",
            "2728/2728 [==============================] - 9s 3ms/step - loss: 0.0040 - accuracy: 0.9982 - val_loss: 0.0388 - val_accuracy: 0.9948\n",
            "Epoch 8/10\n",
            "2728/2728 [==============================] - 8s 3ms/step - loss: 0.0038 - accuracy: 0.9984 - val_loss: 0.0338 - val_accuracy: 0.9946\n",
            "Epoch 9/10\n",
            "2728/2728 [==============================] - 9s 3ms/step - loss: 0.0033 - accuracy: 0.9984 - val_loss: 0.0448 - val_accuracy: 0.9937\n",
            "Epoch 10/10\n",
            "2728/2728 [==============================] - 9s 3ms/step - loss: 0.0031 - accuracy: 0.9986 - val_loss: 0.0392 - val_accuracy: 0.9942\n",
            "650/650 [==============================] - 2s 2ms/step - loss: 0.0406 - accuracy: 0.9939\n",
            "Test Loss: 0.040617793798446655, Test Accuracy: 0.9938886761665344\n"
          ]
        }
      ]
    }
  ]
}